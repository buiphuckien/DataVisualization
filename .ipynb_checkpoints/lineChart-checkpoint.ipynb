{
 "cells": [
  {
   "cell_type": "markdown",
   "id": "3b5d9071-f327-49a6-8356-331ededad460",
   "metadata": {},
   "source": [
    "# How to plot a line chart with python"
   ]
  },
  {
   "cell_type": "markdown",
   "id": "d7a3542d-d816-4edc-acbc-050e27a2ef36",
   "metadata": {},
   "source": [
    "Apple Annual Revenue\n",
    "(Millions of US $)\n",
    "\n",
    "\n",
    "|   year   |2009   |2010   |2011   |2012   |2013   |2014   |2015   |2016   |2017   |2018   |2019   |2020   |2021   |\n",
    "|----------|-------|-------|-------|-------|-------|-------|-------|-------|-------|-------|-------|-------|-------|\n",
    "|   Revenue|42,905 |65,225 |108,249|156,508|170,910|182,795|233,715|215,639|229,234|265,595|260,174|274,515|365,817|\n"
   ]
  },
  {
   "cell_type": "code",
   "execution_count": 13,
   "id": "497720ef-bb18-4ec6-b7fa-ea3d639a357f",
   "metadata": {},
   "outputs": [],
   "source": [
    "string_years = \"|   year   |2009   |2010   |2011   |2012   |2013   |2014   |2015   |2016   |2017   |2018   |2019   |2020   |2021   |\"\n",
    "string_revenue = \"|   Revenue|42,905 |65,225 |108,249|156,508|170,910|182,795|233,715|215,639|229,234|265,595|260,174|274,515|365,817|\""
   ]
  },
  {
   "cell_type": "code",
   "execution_count": 14,
   "id": "06151f9a-c036-47a3-9cb0-4719a3e7b3e1",
   "metadata": {},
   "outputs": [
    {
     "data": {
      "text/plain": [
       "['2009   ',\n",
       " '2010   ',\n",
       " '2011   ',\n",
       " '2012   ',\n",
       " '2013   ',\n",
       " '2014   ',\n",
       " '2015   ',\n",
       " '2016   ',\n",
       " '2017   ',\n",
       " '2018   ',\n",
       " '2019   ',\n",
       " '2020   ',\n",
       " '2021   ']"
      ]
     },
     "execution_count": 14,
     "metadata": {},
     "output_type": "execute_result"
    }
   ],
   "source": [
    "string_years.split('|')[2:-1]"
   ]
  },
  {
   "cell_type": "code",
   "execution_count": 15,
   "id": "fb4ea3cf-746c-45f3-9bce-2676870c79dc",
   "metadata": {},
   "outputs": [
    {
     "data": {
      "text/plain": [
       "['42,905 ',\n",
       " '65,225 ',\n",
       " '108,249',\n",
       " '156,508',\n",
       " '170,910',\n",
       " '182,795',\n",
       " '233,715',\n",
       " '215,639',\n",
       " '229,234',\n",
       " '265,595',\n",
       " '260,174',\n",
       " '274,515',\n",
       " '365,817']"
      ]
     },
     "execution_count": 15,
     "metadata": {},
     "output_type": "execute_result"
    }
   ],
   "source": [
    "string_revenue.split('|')[2:-1]"
   ]
  },
  {
   "cell_type": "code",
   "execution_count": 16,
   "id": "cb219ca0-91a8-4c4f-8ca4-a1323963bd98",
   "metadata": {},
   "outputs": [
    {
     "data": {
      "text/plain": [
       "[2009, 2010, 2011, 2012, 2013, 2014, 2015, 2016, 2017, 2018, 2019, 2020, 2021]"
      ]
     },
     "execution_count": 16,
     "metadata": {},
     "output_type": "execute_result"
    }
   ],
   "source": [
    "years = [int(year) for year in string_years.split('|')[2:-1]]\n",
    "years"
   ]
  },
  {
   "cell_type": "code",
   "execution_count": 17,
   "id": "93ce5454-5e57-4031-ba39-a7395c0caea2",
   "metadata": {},
   "outputs": [
    {
     "data": {
      "text/plain": [
       "[42905,\n",
       " 65225,\n",
       " 108249,\n",
       " 156508,\n",
       " 170910,\n",
       " 182795,\n",
       " 233715,\n",
       " 215639,\n",
       " 229234,\n",
       " 265595,\n",
       " 260174,\n",
       " 274515,\n",
       " 365817]"
      ]
     },
     "execution_count": 17,
     "metadata": {},
     "output_type": "execute_result"
    }
   ],
   "source": [
    "import locale\n",
    "locale.setlocale( locale.LC_ALL, 'en_US.UTF-8' )\n",
    "revenues = [locale.atoi(r) for r in string_revenue.split('|')[2:-1]]\n",
    "revenues"
   ]
  },
  {
   "cell_type": "code",
   "execution_count": 19,
   "id": "c5a928d3-51cb-4c86-a61a-e3f196a543cd",
   "metadata": {},
   "outputs": [
    {
     "data": {
      "image/png": "[encoded data removed]",
      "text/plain": [
       "<Figure size 864x432 with 1 Axes>"
      ]
     },
     "metadata": {
      "needs_background": "light"
     },
     "output_type": "display_data"
    }
   ],
   "source": [
    "import matplotlib.pyplot as plt\n",
    "import pandas as pd\n",
    "import numpy as np\n",
    "import math\n",
    "\n",
    "# Vẽ\n",
    "fig, ax = plt.subplots(figsize=(12, 6))\n",
    "\n",
    "# Vẽ biểu đồ thanh ngang\n",
    "ax.plot(years, revenues)\n",
    "ax.set_xlabel('Years', fontweight = 'bold')\n",
    "ax.set_ylabel('Revenue', fontweight = 'bold')\n",
    "ax.set_title(\n",
    "    'Apple Annual Revenue (Millions of US $)', \n",
    "    fontsize = 15,\n",
    "    fontweight = 'bold',\n",
    "    pad = 20,\n",
    "    loc = 'center')\n",
    "plt.show()"
   ]
  }
 ],
 "metadata": {
  "kernelspec": {
   "display_name": "Python 3 (ipykernel)",
   "language": "python",
   "name": "python3"
  },
  "language_info": {
   "codemirror_mode": {
    "name": "ipython",
    "version": 3
   },
   "file_extension": ".py",
   "mimetype": "text/x-python",
   "name": "python",
   "nbconvert_exporter": "python",
   "pygments_lexer": "ipython3",
   "version": "3.9.12"
  }
 },
 "nbformat": 4,
 "nbformat_minor": 5
}
